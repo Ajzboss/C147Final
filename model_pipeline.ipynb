{
 "cells": [
  {
   "cell_type": "markdown",
   "metadata": {},
   "source": [
    "#How To Build a Model: Step By Step\n"
   ]
  },
  {
   "cell_type": "code",
   "execution_count": 8,
   "metadata": {},
   "outputs": [],
   "source": [
    "import torch\n",
    "from torch import nn\n",
    "from torch.utils.data import DataLoader\n",
    "from torchvision import datasets\n",
    "from torchvision.transforms import ToTensor\n",
    "\n"
   ]
  },
  {
   "cell_type": "markdown",
   "metadata": {},
   "source": [
    "Pick Your Universal Hyperparamaters:"
   ]
  },
  {
   "cell_type": "code",
   "execution_count": null,
   "metadata": {},
   "outputs": [],
   "source": [
    "batch_size = 64\n",
    "epochs = 5\n"
   ]
  },
  {
   "cell_type": "markdown",
   "metadata": {},
   "source": [
    "# Setup Your Model Workspace:\n",
    "\n",
    "Your model architecture, and all of it's relevent code, will go in a folder at the location ./NNDL/(Your Model Name Here)\n"
   ]
  },
  {
   "cell_type": "markdown",
   "metadata": {},
   "source": [
    "# Setup Your Dataset/Data Loaders Here\n",
    "\n",
    "Pytorch usually takes a csv file. You need to write a function( For naming convention let's call it *create_torch_datasets()* ) that takes the universal dataset kyle got from parsing and seperates/loads it into data that you want your model to train on\n",
    "\n",
    "\n"
   ]
  },
  {
   "cell_type": "code",
   "execution_count": 2,
   "metadata": {},
   "outputs": [],
   "source": [
    "#This is an example of what I'm talking about. The Fashion dataset is pretty easy bc it's function alr exists\n",
    "# but you need to create your own function to make the training data and test_ data datasets\n",
    "\n",
    "\n",
    "training_data = datasets.FashionMNIST(\n",
    "    root=\"data\",\n",
    "    train=True,\n",
    "    download=True,\n",
    "    transform=ToTensor(),\n",
    ")\n",
    "\n",
    "test_data = datasets.FashionMNIST(\n",
    "    root=\"data\",\n",
    "    train=False,\n",
    "    download=True,\n",
    "    transform=ToTensor(),\n",
    ")"
   ]
  },
  {
   "cell_type": "markdown",
   "metadata": {},
   "source": [
    "Put the dataset into data loader, and check the shape, make sure it's how you want it.\n"
   ]
  },
  {
   "cell_type": "code",
   "execution_count": 9,
   "metadata": {},
   "outputs": [
    {
     "name": "stdout",
     "output_type": "stream",
     "text": [
      "Shape of X [N, C, H, W]: torch.Size([64, 1, 28, 28])\n",
      "Shape of y: torch.Size([64]) torch.int64\n"
     ]
    }
   ],
   "source": [
    "# Create data loaders.\n",
    "train_dataloader = DataLoader(training_data, batch_size=batch_size)\n",
    "test_dataloader = DataLoader(test_data, batch_size=batch_size)\n",
    "\n",
    "for X, y in test_dataloader:\n",
    "    print(f\"Shape of X [N, C, H, W]: {X.shape}\")\n",
    "    print(f\"Shape of y: {y.shape} {y.dtype}\")\n",
    "    break"
   ]
  },
  {
   "cell_type": "markdown",
   "metadata": {},
   "source": [
    "# Setup Model Architecture\n",
    "\n",
    "1. Create your model architecture in your folder\n",
    "2. Pick your loss function and optimizer"
   ]
  },
  {
   "cell_type": "code",
   "execution_count": 5,
   "metadata": {},
   "outputs": [],
   "source": [
    "from NNDL.TestModel.FCNN import NeuralNetwork \n",
    "\n",
    "model = NeuralNetwork()\n",
    "loss_fn = nn.CrossEntropyLoss()\n",
    "optimizer = torch.optim.SGD(model.parameters(), lr=1e-3)\n"
   ]
  },
  {
   "cell_type": "markdown",
   "metadata": {},
   "source": [
    "# Train the model\n",
    "This should work to train your model. We may have to make some edits for different optimizations, but we can figure it out.\n"
   ]
  },
  {
   "cell_type": "code",
   "execution_count": 7,
   "metadata": {},
   "outputs": [
    {
     "name": "stdout",
     "output_type": "stream",
     "text": [
      "Epoch 1\n",
      "-------------------------------\n",
      "loss: 2.295835  [   64/60000]\n",
      "loss: 2.289212  [ 6464/60000]\n",
      "loss: 2.277124  [12864/60000]\n",
      "loss: 2.273642  [19264/60000]\n",
      "loss: 2.242561  [25664/60000]\n",
      "loss: 2.232709  [32064/60000]\n",
      "loss: 2.223064  [38464/60000]\n",
      "loss: 2.193398  [44864/60000]\n",
      "loss: 2.187499  [51264/60000]\n",
      "loss: 2.168628  [57664/60000]\n",
      "Test Error: \n",
      " Accuracy: 53.2%, Avg loss: 2.158337 \n",
      "\n",
      "Epoch 2\n",
      "-------------------------------\n",
      "loss: 2.161626  [   64/60000]\n",
      "loss: 2.152253  [ 6464/60000]\n",
      "loss: 2.099909  [12864/60000]\n",
      "loss: 2.119289  [19264/60000]\n",
      "loss: 2.048779  [25664/60000]\n",
      "loss: 2.004668  [32064/60000]\n",
      "loss: 2.019566  [38464/60000]\n",
      "loss: 1.940294  [44864/60000]\n",
      "loss: 1.943159  [51264/60000]\n",
      "loss: 1.875092  [57664/60000]\n",
      "Test Error: \n",
      " Accuracy: 59.0%, Avg loss: 1.872346 \n",
      "\n",
      "Epoch 3\n",
      "-------------------------------\n",
      "loss: 1.899469  [   64/60000]\n",
      "loss: 1.867673  [ 6464/60000]\n",
      "loss: 1.752991  [12864/60000]\n",
      "loss: 1.803219  [19264/60000]\n",
      "loss: 1.674740  [25664/60000]\n",
      "loss: 1.634078  [32064/60000]\n",
      "loss: 1.659105  [38464/60000]\n",
      "loss: 1.555568  [44864/60000]\n",
      "loss: 1.579797  [51264/60000]\n",
      "loss: 1.477514  [57664/60000]\n",
      "Test Error: \n",
      " Accuracy: 61.9%, Avg loss: 1.495443 \n",
      "\n",
      "Epoch 4\n",
      "-------------------------------\n",
      "loss: 1.558728  [   64/60000]\n",
      "loss: 1.521764  [ 6464/60000]\n",
      "loss: 1.374374  [12864/60000]\n",
      "loss: 1.458736  [19264/60000]\n",
      "loss: 1.328403  [25664/60000]\n",
      "loss: 1.330549  [32064/60000]\n",
      "loss: 1.350585  [38464/60000]\n",
      "loss: 1.268372  [44864/60000]\n",
      "loss: 1.302525  [51264/60000]\n",
      "loss: 1.209819  [57664/60000]\n",
      "Test Error: \n",
      " Accuracy: 62.9%, Avg loss: 1.233067 \n",
      "\n",
      "Epoch 5\n",
      "-------------------------------\n",
      "loss: 1.308381  [   64/60000]\n",
      "loss: 1.288964  [ 6464/60000]\n",
      "loss: 1.123246  [12864/60000]\n",
      "loss: 1.243985  [19264/60000]\n",
      "loss: 1.111739  [25664/60000]\n",
      "loss: 1.138949  [32064/60000]\n",
      "loss: 1.166461  [38464/60000]\n",
      "loss: 1.093895  [44864/60000]\n",
      "loss: 1.132149  [51264/60000]\n",
      "loss: 1.055627  [57664/60000]\n",
      "Test Error: \n",
      " Accuracy: 64.3%, Avg loss: 1.074992 \n",
      "\n",
      "Done!\n"
     ]
    }
   ],
   "source": [
    "from NNDL.Utils.solver import train,test\n",
    "for t in range(epochs):\n",
    "    print(f\"Epoch {t+1}\\n-------------------------------\")\n",
    "    train(train_dataloader, model, loss_fn, optimizer)\n",
    "    test(test_dataloader, model, loss_fn)\n",
    "print(\"Done!\")"
   ]
  }
 ],
 "metadata": {
  "kernelspec": {
   "display_name": "Python 3",
   "language": "python",
   "name": "python3"
  },
  "language_info": {
   "codemirror_mode": {
    "name": "ipython",
    "version": 3
   },
   "file_extension": ".py",
   "mimetype": "text/x-python",
   "name": "python",
   "nbconvert_exporter": "python",
   "pygments_lexer": "ipython3",
   "version": "3.11.0"
  }
 },
 "nbformat": 4,
 "nbformat_minor": 2
}
