{
 "cells": [
  {
   "cell_type": "markdown",
   "metadata": {},
   "source": [
    "#How To Build a Model: Step By Step\n"
   ]
  },
  {
   "cell_type": "code",
   "execution_count": 2,
   "metadata": {},
   "outputs": [],
   "source": [
    "#Pytorch Imports\n",
    "%load_ext autoreload\n",
    "%autoreload 2\n",
    "\n",
    "import torch\n",
    "from torch import nn\n",
    "from torch.utils.data import DataLoader\n",
    "from torchtext.data import get_tokenizer\n",
    "from torchtext.datasets import IMDB\n",
    "from torchtext.transforms import ToTensor\n",
    "from torchtext.vocab import build_vocab_from_iterator\n",
    "#Pandas\n",
    "import numpy as np\n",
    "import pandas as pd\n",
    "import matplotlib.pyplot as plt\n",
    "# from sklearn.model_selection import train_test_split\n",
    "import time\n",
    "\n",
    "\n"
   ]
  },
  {
   "cell_type": "code",
   "execution_count": 3,
   "metadata": {},
   "outputs": [
    {
     "name": "stderr",
     "output_type": "stream",
     "text": [
      "C:\\Users\\haoxu\\AppData\\Local\\Packages\\PythonSoftwareFoundation.Python.3.11_qbz5n2kfra8p0\\LocalCache\\local-packages\\Python311\\site-packages\\tqdm\\auto.py:21: TqdmWarning: IProgress not found. Please update jupyter and ipywidgets. See https://ipywidgets.readthedocs.io/en/stable/user_install.html\n",
      "  from .autonotebook import tqdm as notebook_tqdm\n"
     ]
    },
    {
     "data": {
      "text/plain": [
       "<contextlib.ExitStack at 0x1c5d4458350>"
      ]
     },
     "execution_count": 3,
     "metadata": {},
     "output_type": "execute_result"
    }
   ],
   "source": [
    "import os\n",
    "import torch\n",
    "import numpy as np\n",
    "import matplotlib.pyplot as plt\n",
    "from torch.utils.data import Dataset, DataLoader\n",
    "from torchvision import transforms, utils\n",
    "from transformers import AutoTokenizer\n",
    "\n",
    "# Ignore warnings\n",
    "import warnings\n",
    "warnings.filterwarnings(\"ignore\")\n",
    "\n",
    "plt.ion()   # interactive mode"
   ]
  },
  {
   "cell_type": "markdown",
   "metadata": {},
   "source": [
    "Pick Your Universal Hyperparamaters:"
   ]
  },
  {
   "cell_type": "code",
   "execution_count": 4,
   "metadata": {},
   "outputs": [
    {
     "name": "stdout",
     "output_type": "stream",
     "text": [
      "==>> torch.cuda.is_available(): True\n",
      "cuda\n"
     ]
    }
   ],
   "source": [
    "batch_size = 32\n",
    "epochs = 10\n",
    "input_dim = 100\n",
    "hidden_dim = 50\n",
    "output_dim = 10\n",
    "n_filters=30\n",
    "filter_size=5\n",
    "drop_frac=0.5\n",
    "embed_dim = 50\n",
    "device = (\n",
    "    \"cuda\"\n",
    "    if torch.cuda.is_available()\n",
    "    else \"mps\"\n",
    "    if torch.backends.mps.is_available()\n",
    "    else \"cpu\"\n",
    ")\n",
    "print(f\"==>> torch.cuda.is_available(): {torch.cuda.is_available()}\")\n",
    "print(device)\n",
    "device = \"cpu\""
   ]
  },
  {
   "cell_type": "markdown",
   "metadata": {},
   "source": [
    "# Setup Your Model Workspace:\n",
    "\n",
    "Your model architecture, and all of it's relevent code, will go in a folder at the location ./NNDL/(Your Model Name Here)\n"
   ]
  },
  {
   "cell_type": "markdown",
   "metadata": {},
   "source": [
    "# Setup Your Dataset/Data Loaders Here\n",
    "\n",
    "Pytorch usually takes a csv file. You need to write a function( For naming convention let's call it *create_torch_datasets()* ) that takes the universal dataset kyle got from parsing and seperates/loads it into data that you want your model to train on\n",
    "\n",
    "\n"
   ]
  },
  {
   "cell_type": "code",
   "execution_count": 5,
   "metadata": {},
   "outputs": [],
   "source": [
    "#Create Custom Dataset Class:\n",
    "from torchtext.data import get_tokenizer\n",
    "from torchtext.vocab import GloVe\n",
    "from transformers import BertTokenizer\n",
    "# Load the pre-trained BERT tokenizer\n",
    "tokenizer = get_tokenizer(\"basic_english\")\n",
    "\n",
    "# Input text\n",
    "text = \"Hello, how are you doing?\"\n",
    "\n",
    "vec = GloVe(name='6B', dim=embed_dim)\n",
    "class TextDataset(Dataset):\n",
    "    def __init__(self, data, root_dir):\n",
    "        self.root_dir = root_dir\n",
    "        self.data = data\n",
    "        self.mapping = {}\n",
    "        self.cur_map = 0\n",
    "    def __len__(self):\n",
    "        return len(self.data)\n",
    "    def __getitem__(self, index):\n",
    "        if  type(self.data.iloc[index, 0]) == float:\n",
    "            t=\"N/A\"\n",
    "            print('N/A Example  In dataset')\n",
    "        else:\n",
    "            t=self.data.iloc[index, 0]\n",
    "        #print(t)\n",
    "        tokens = tokenizer.tokenize(t)\n",
    "        #print(tokens)\n",
    "        token_length=input_dim\n",
    "        tokens=tokens+[\"\"] * (token_length-len(tokens))  if len(tokens)<token_length else tokens[:token_length]\n",
    "        #print(tokens)\n",
    "        tokens_emb = [vec.stoi.get(token, 0) for token in tokens]\n",
    "        #print(tokens_emb)\n",
    "        #print(tokens_emb.shape)\n",
    "        # print(f\"==>> tokens: {tokens}\")\n",
    "        # token_ids = self.tokenizer.convert_tokens_to_ids(tokens)\n",
    "        # print(f\"==>> token_ids: {token_ids}\")\n",
    "        \n",
    "        #input_tensor = torch.tensor(self.tokenizer.convert_tokens_to_ids(tokens)).unsqueeze(0)\n",
    "        category_text = os.path.join(self.data.iloc[index, 1])\n",
    "        if category_text in self.mapping:\n",
    "            category = self.mapping[category_text]\n",
    "        else:\n",
    "            self.mapping[category_text] = self.cur_map\n",
    "            #print(self.mapping)\n",
    "            category = self.cur_map\n",
    "            self.cur_map+=1\n",
    "        # print(f\"self.mapping:{self.mapping}\")\n",
    "        return torch.tensor(tokens_emb),category"
   ]
  },
  {
   "cell_type": "code",
   "execution_count": 6,
   "metadata": {},
   "outputs": [
    {
     "name": "stdout",
     "output_type": "stream",
     "text": [
      "tensor([13075,     1,   197,    32,    81,   914,   188])\n",
      "Original Text: Hello, how are you doing?\n",
      "Tokens: ['hello', ',', 'how', 'are', 'you', 'doing', '?']\n",
      "Token IDs: tensor([7592, 1010, 2129, 2024, 2017, 2725, 1029])\n"
     ]
    }
   ],
   "source": [
    "from transformers import BertTokenizer\n",
    "\n",
    "# Load the pre-trained BERT tokenizer\n",
    "tokenizer = BertTokenizer.from_pretrained('bert-base-uncased')\n",
    "\n",
    "# Input text\n",
    "text = \"Hello, how are you doing?\"\n",
    "\n",
    "# Tokenize the text\n",
    "tokens = tokenizer.tokenize(text)\n",
    "tokens_emb = [vec.stoi[token] for token in tokens]\n",
    "print(torch.tensor(tokens_emb))\n",
    "# Convert tokens to numerical IDs\n",
    "token_ids = tokenizer.convert_tokens_to_ids(tokens)\n",
    "\n",
    "# Print the results\n",
    "print(\"Original Text:\", text)\n",
    "print(\"Tokens:\", tokens)\n",
    "print(\"Token IDs:\", torch.tensor(token_ids))"
   ]
  },
  {
   "cell_type": "code",
   "execution_count": 7,
   "metadata": {},
   "outputs": [],
   "source": [
    "#For Transformer,CNN,RNN\n",
    "d = pd.read_csv(r'data\\products_noimg_uniform_LDKEbb.csv')\n",
    "\n",
    "text_dataset = TextDataset(data=d,root_dir='/')\n",
    "\n",
    "train,test,trash = torch.utils.data.random_split(text_dataset,[0.08,0.02,0.9])\n",
    "train_dataloader =  DataLoader(train, batch_size=batch_size,\n",
    "                        shuffle=True, num_workers=0, drop_last=True)\n",
    "test_dataloader =  DataLoader(test, batch_size=batch_size,\n",
    "                        shuffle=True, num_workers=0, drop_last=True)\n",
    "#vocab= build_vocab_from_iterator(train_dataloader,specials=[\"<unk>\"]).to(device)\n",
    "#vocab.set_default_index(vocab[\"<unk>\"])\n",
    "# train_iter= IMDB(split=\"train\")\n",
    "# test_iter = IMDB(split=\"test\")\n",
    "# tokenizer = get_tokenizer(\"basic_english\")\n",
    "# def yield_tokens(data_iter):\n",
    "#     for _, text in data_iter:\n",
    "#         yield tokenizer(text)\n",
    "# train_tokens = []\n",
    "# vocab = build_vocab_from_iterator(yield_tokens(train_iter), specials=[\"<unk>\"])\n",
    "# vocab.set_default_index(vocab[\"<unk>\"])\n",
    "# test_tokens = []\n",
    "# test_tokens = build_vocab_from_iterator(yield_tokens(test_iter), specials=[\"<unk>\"])\n",
    "\n"
   ]
  },
  {
   "cell_type": "code",
   "execution_count": 8,
   "metadata": {},
   "outputs": [
    {
     "data": {
      "text/plain": [
       "<__main__.TextDataset at 0x1c5d3da9b90>"
      ]
     },
     "execution_count": 8,
     "metadata": {},
     "output_type": "execute_result"
    }
   ],
   "source": [
    "#This is an example of what I'm talking about. The Fashion dataset is pretty easy bc it's function alr exists\n",
    "# but you need to create your own function to make the training data and test_ data datasets\n",
    "\n",
    "#For Embedding\n",
    "text_dataset"
   ]
  },
  {
   "cell_type": "markdown",
   "metadata": {},
   "source": []
  },
  {
   "cell_type": "markdown",
   "metadata": {},
   "source": [
    "Put the dataset into data loader, and check the shape, make sure it's how you want it.\n"
   ]
  },
  {
   "cell_type": "code",
   "execution_count": 9,
   "metadata": {},
   "outputs": [],
   "source": [
    "# Create data loaders.\n",
    "#train_dataloader = DataLoader(text_dataset, batch_size=batch_size,shuffle=True, num_workers=0)\n",
    "#print(train_dataloader[0])\n",
    "# for i_batch, sample_batched in enumerate(train_dataloader):\n",
    "#   print(f\"==>> i_batch: {i_batch}\")\n",
    "#   print(f\"==>> sample_batched: {len(sample_batched)}\")\n",
    "      #print(i_batch, sample_batched['text'][0][0].item(),\n",
    "        #sample_batched['category'])\n",
    "\n",
    "# Display image and label.\n",
    "#train_features, train_labels = next(iter(train_dataloader))\n",
    "# print(train_features)\n",
    "# print(train_labels)\n",
    "# print(f\"Feature batch shape: {train_features.size()}\")\n",
    "# print(f\"Labels batch shape: {train_labels.size()}\")\n",
    "# img = train_features[0].squeeze()\n",
    "# label = train_labels[0]\n",
    "# plt.imshow(img, cmap=\"gray\")\n",
    "# plt.show()\n",
    "# print(f\"Label: {label}\")"
   ]
  },
  {
   "cell_type": "markdown",
   "metadata": {},
   "source": [
    "# Setup Model Architecture\n",
    "\n",
    "1. Create your model architecture in your folder\n",
    "2. Pick your loss function and optimizer"
   ]
  },
  {
   "cell_type": "code",
   "execution_count": null,
   "metadata": {},
   "outputs": [],
   "source": []
  },
  {
   "cell_type": "code",
   "execution_count": 10,
   "metadata": {},
   "outputs": [],
   "source": [
    "from NNDL.transformer.architecture import TransformerModel\n",
    "from NNDL.RNN.architecture import RNN,MyNetwork\n",
    "from NNDL.Utils.solver import train,test\n",
    "from NNDL.Utils.weight_tracker import ActivationMonitor\n",
    "model = TransformerModel(input_dim,embed_dim,output_dim).to(device)\n",
    "#device=\"cpu\"\n",
    "#model = RNN(input_dim,hidden_dim,output_dim,embed_dim).to(device)\n",
    "#model = MyNetwork(embed_dim,n_filters,filter_size,drop_frac,output_dim,embed_dim).to(device)\n",
    "\n",
    "loss_fn = nn.CrossEntropyLoss()\n",
    "optimizer = torch.optim.Adam(model.parameters(),lr=1e-3)\n",
    "activation_monitor = ActivationMonitor(model)\n",
    "\n"
   ]
  },
  {
   "cell_type": "markdown",
   "metadata": {},
   "source": [
    "# Train the model\n",
    "This should work to train your model. We may have to make some edits for different optimizations, but we can figure it out.\n"
   ]
  },
  {
   "cell_type": "code",
   "execution_count": 11,
   "metadata": {},
   "outputs": [
    {
     "name": "stdout",
     "output_type": "stream",
     "text": [
      "Epoch 1\n",
      "-------------------------------\n",
      "loss: 2.368665  [   32/40000]\n",
      "loss: 1.501646  [ 2080/40000]\n",
      "loss: 1.209005  [ 4128/40000]\n",
      "loss: 1.028286  [ 6176/40000]\n",
      "loss: 1.135450  [ 8224/40000]\n",
      "loss: 0.906429  [10272/40000]\n",
      "loss: 0.946409  [12320/40000]\n",
      "loss: 1.063148  [14368/40000]\n",
      "loss: 0.898225  [16416/40000]\n",
      "loss: 0.867113  [18464/40000]\n",
      "loss: 0.954220  [20512/40000]\n",
      "loss: 0.449748  [22560/40000]\n",
      "loss: 1.048797  [24608/40000]\n",
      "loss: 0.908764  [26656/40000]\n",
      "loss: 1.008533  [28704/40000]\n",
      "loss: 0.575284  [30752/40000]\n",
      "loss: 0.521805  [32800/40000]\n",
      "loss: 0.874585  [34848/40000]\n",
      "loss: 0.750549  [36896/40000]\n",
      "loss: 0.644775  [38944/40000]\n"
     ]
    },
    {
     "ename": "",
     "evalue": "",
     "output_type": "error",
     "traceback": [
      "\u001b[1;31mThe Kernel crashed while executing code in the current cell or a previous cell. \n",
      "\u001b[1;31mPlease review the code in the cell(s) to identify a possible cause of the failure. \n",
      "\u001b[1;31mClick <a href='https://aka.ms/vscodeJupyterKernelCrash'>here</a> for more info. \n",
      "\u001b[1;31mView Jupyter <a href='command:jupyter.viewOutput'>log</a> for further details."
     ]
    }
   ],
   "source": [
    "for t in range(epochs):\n",
    "    #with torch.autograd.detect_anomaly():\n",
    "        print(f\"Epoch {t+1}\\n-------------------------------\")\n",
    "        train(train_dataloader, model, loss_fn, optimizer)\n",
    "        test(test_dataloader, model, loss_fn)\n",
    "print(\"Done!\")"
   ]
  },
  {
   "cell_type": "code",
   "execution_count": null,
   "metadata": {},
   "outputs": [
    {
     "name": "stdout",
     "output_type": "stream",
     "text": [
      "Number of layers: 0\n"
     ]
    }
   ],
   "source": [
    "print(\"Number of layers:\", len(activation_monitor.activations))\n",
    "for i, activation in enumerate(activation_monitor.activations):\n",
    "    print(f\"Layer {i + 1}: {activation.shape}\")\n"
   ]
  }
 ],
 "metadata": {
  "kernelspec": {
   "display_name": "Python 3",
   "language": "python",
   "name": "python3"
  },
  "language_info": {
   "codemirror_mode": {
    "name": "ipython",
    "version": 3
   },
   "file_extension": ".py",
   "mimetype": "text/x-python",
   "name": "python",
   "nbconvert_exporter": "python",
   "pygments_lexer": "ipython3",
   "version": "3.11.8"
  }
 },
 "nbformat": 4,
 "nbformat_minor": 2
}
