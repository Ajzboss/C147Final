{
 "cells": [
  {
   "cell_type": "markdown",
   "metadata": {},
   "source": [
    "#How To Build a Model: Step By Step\n"
   ]
  },
  {
   "cell_type": "code",
   "execution_count": 18,
   "metadata": {},
   "outputs": [
    {
     "name": "stdout",
     "output_type": "stream",
     "text": [
      "The autoreload extension is already loaded. To reload it, use:\n",
      "  %reload_ext autoreload\n"
     ]
    }
   ],
   "source": [
    "#Pytorch Imports\n",
    "%load_ext autoreload\n",
    "%autoreload 2\n",
    "import torch\n",
    "from torch import nn\n",
    "from torch.utils.data import DataLoader\n",
    "from torchtext.data import get_tokenizer\n",
    "from torchtext.datasets import IMDB\n",
    "from torchtext.transforms import ToTensor\n",
    "from torchtext.vocab import build_vocab_from_iterator\n",
    "#Pandas\n",
    "import pandas as pd\n",
    "import numpy as np\n",
    "\n",
    "import matplotlib.pyplot as plt\n",
    "# from sklearn.model_selection import train_test_split\n",
    "import time\n",
    "\n",
    "\n"
   ]
  },
  {
   "cell_type": "code",
   "execution_count": 19,
   "metadata": {},
   "outputs": [
    {
     "data": {
      "text/plain": [
       "<contextlib.ExitStack at 0x1a6cb960bc0>"
      ]
     },
     "execution_count": 19,
     "metadata": {},
     "output_type": "execute_result"
    }
   ],
   "source": [
    "import os\n",
    "import torch\n",
    "import pandas as pd\n",
    "import numpy as np\n",
    "import matplotlib.pyplot as plt\n",
    "from torch.utils.data import Dataset, DataLoader\n",
    "from torchvision import transforms, utils\n",
    "from transformers import AutoTokenizer\n",
    "\n",
    "# Ignore warnings\n",
    "import warnings\n",
    "warnings.filterwarnings(\"ignore\")\n",
    "\n",
    "plt.ion()   # interactive mode"
   ]
  },
  {
   "cell_type": "markdown",
   "metadata": {},
   "source": [
    "Pick Your Universal Hyperparamaters:"
   ]
  },
  {
   "cell_type": "code",
   "execution_count": 20,
   "metadata": {},
   "outputs": [
    {
     "name": "stdout",
     "output_type": "stream",
     "text": [
      "cuda\n",
      "True\n"
     ]
    }
   ],
   "source": [
    "batch_size = 100\n",
    "epochs = 5\n",
    "input_dim = 512\n",
    "n_filters= 128\n",
    "filter_size = 5\n",
    "hidden_dim = 100\n",
    "output_dim = 11\n",
    "CUDA_LAUNCH_BLOCKING=1\n",
    "TORCH_USE_CUDA_DSA=1\n",
    "device = (\n",
    "    \"cuda\"\n",
    "    if torch.cuda.is_available()\n",
    "    else \"mps\"\n",
    "    if torch.backends.mps.is_available()\n",
    "    else \"cpu\"\n",
    ")\n",
    "#device=\"cpu\"\n",
    "print(device)\n",
    "print(torch.cuda.is_available())"
   ]
  },
  {
   "cell_type": "markdown",
   "metadata": {},
   "source": [
    "# Setup Your Model Workspace:\n",
    "\n",
    "Your model architecture, and all of it's relevent code, will go in a folder at the location ./NNDL/(Your Model Name Here)\n"
   ]
  },
  {
   "cell_type": "markdown",
   "metadata": {},
   "source": [
    "# Setup Your Dataset/Data Loaders Here\n",
    "\n",
    "Pytorch usually takes a csv file. You need to write a function( For naming convention let's call it *create_torch_datasets()* ) that takes the universal dataset kyle got from parsing and seperates/loads it into data that you want your model to train on\n",
    "\n",
    "\n"
   ]
  },
  {
   "cell_type": "code",
   "execution_count": 21,
   "metadata": {},
   "outputs": [],
   "source": [
    "#Create Custom Dataset Class:\n",
    "class TextDataset(Dataset):\n",
    "    def __init__(self, csv_file, root_dir):\n",
    "        self.root_dir = root_dir\n",
    "        self.data = pd.read_csv(csv_file)\n",
    "        self.mapping = {}\n",
    "        self.cur_map = 1\n",
    "        self.tokenizer = AutoTokenizer.from_pretrained(\"google-bert/bert-base-cased\")\n",
    "    def __len__(self):\n",
    "        return len(self.data)\n",
    "    def __getitem__(self, index):\n",
    "        if  type(self.data.iloc[index, 0]) == float:\n",
    "            t=\"N/A\"\n",
    "        else:\n",
    "            t=self.data.iloc[index, 0]\n",
    "        text_o = os.path.join(self.root_dir,t)\n",
    "        tokens = self.tokenizer(text_o, padding='max_length',truncation=True)['input_ids']\n",
    "        # print(f\"==>> tokens: {tokens}\")\n",
    "        # token_ids = self.tokenizer.convert_tokens_to_ids(tokens)\n",
    "        # print(f\"==>> token_ids: {token_ids}\")\n",
    "        \n",
    "        #input_tensor = torch.tensor(self.tokenizer.convert_tokens_to_ids(tokens)).unsqueeze(0)\n",
    "        category_text = os.path.join(self.root_dir,\n",
    "            self.data.iloc[index, 1])\n",
    "        if category_text in self.mapping:\n",
    "            category = self.mapping[category_text]\n",
    "        else:\n",
    "            self.mapping[category_text] = self.cur_map\n",
    "            category = self.cur_map\n",
    "            self.cur_map+=1\n",
    "        # print(f\"self.mapping:{self.mapping}\")\n",
    "        return torch.tensor(tokens,dtype=torch.float32),category"
   ]
  },
  {
   "cell_type": "code",
   "execution_count": 22,
   "metadata": {},
   "outputs": [
    {
     "name": "stdout",
     "output_type": "stream",
     "text": [
      "Original Text: Hello, how are you doing?\n",
      "Tokens: ['hello', ',', 'how', 'are', 'you', 'doing', '?']\n",
      "Token IDs: tensor([7592, 1010, 2129, 2024, 2017, 2725, 1029])\n"
     ]
    }
   ],
   "source": [
    "from transformers import BertTokenizer\n",
    "\n",
    "# Load the pre-trained BERT tokenizer\n",
    "tokenizer = BertTokenizer.from_pretrained('bert-base-uncased')\n",
    "\n",
    "# Input text\n",
    "text = \"Hello, how are you doing?\"\n",
    "\n",
    "# Tokenize the text\n",
    "tokens = tokenizer.tokenize(text)\n",
    "\n",
    "# Convert tokens to numerical IDs\n",
    "token_ids = tokenizer.convert_tokens_to_ids(tokens)\n",
    "\n",
    "# Print the results\n",
    "print(\"Original Text:\", text)\n",
    "print(\"Tokens:\", tokens)\n",
    "print(\"Token IDs:\", torch.tensor(token_ids))"
   ]
  },
  {
   "cell_type": "code",
   "execution_count": 23,
   "metadata": {},
   "outputs": [],
   "source": [
    "#This is an example of what I'm talking about. The Fashion dataset is pretty easy bc it's function alr exists\n",
    "# but you need to create your own function to make the training data and test_ data datasets\n",
    "text_dataset = TextDataset(csv_file=r'data\\products_noimg.csv',root_dir='/')\n",
    "#for i, sample in enumerate(text_dataset):\n",
    "#    print(i, len(sample[0]), sample[1])\n",
    "generator1 = torch.Generator().manual_seed(42)\n",
    "train,test,trash = torch.utils.data.random_split(text_dataset,[0.8,0.2,0], generator=generator1)\n",
    "# Note that if i want to make the dataset smaller, change the values above ^ (the first value is the \"train\", \"test\", and then the rest are not used. Make sure they add up to 100)\n",
    "train_dataloader =  DataLoader(train, batch_size=batch_size,\n",
    "                        shuffle=True, num_workers=0, drop_last=True)\n",
    "test_dataloader =  DataLoader(test, batch_size=batch_size,\n",
    "                        shuffle=True, num_workers=0, drop_last=True)\n",
    "\n",
    "# train_iter= IMDB(split=\"train\")\n",
    "# test_iter = IMDB(split=\"test\")\n",
    "# tokenizer = get_tokenizer(\"basic_english\")\n",
    "# def yield_tokens(data_iter):\n",
    "#     for _, text in data_iter:\n",
    "#         yield tokenizer(text)\n",
    "# train_tokens = []\n",
    "# vocab = build_vocab_from_iterator(yield_tokens(train_iter), specials=[\"<unk>\"])\n",
    "# vocab.set_default_index(vocab[\"<unk>\"])\n",
    "# test_tokens = []\n",
    "# test_tokens = build_vocab_from_iterator(yield_tokens(test_iter), specials=[\"<unk>\"])\n",
    "\n"
   ]
  },
  {
   "cell_type": "markdown",
   "metadata": {},
   "source": []
  },
  {
   "cell_type": "markdown",
   "metadata": {},
   "source": [
    "Put the dataset into data loader, and check the shape, make sure it's how you want it.\n"
   ]
  },
  {
   "cell_type": "code",
   "execution_count": 24,
   "metadata": {},
   "outputs": [],
   "source": [
    "# Create data loaders.\n",
    "#train_dataloader = DataLoader(text_dataset, batch_size=batch_size,shuffle=True, num_workers=0)\n",
    "#print(train_dataloader[0])\n",
    "# for i_batch, sample_batched in enumerate(train_dataloader):\n",
    "#   print(f\"==>> i_batch: {i_batch}\")\n",
    "#   print(f\"==>> sample_batched: {len(sample_batched)}\")\n",
    "      #print(i_batch, sample_batched['text'][0][0].item(),\n",
    "        #sample_batched['category'])\n",
    "\n",
    "# Display image and label.\n",
    "#train_features, train_labels = next(iter(train_dataloader))\n",
    "#print(train_features)\n",
    "#print(train_labels)\n",
    "#print(f\"Feature batch shape: {train_features.size()}\")\n",
    "#print(f\"Labels batch shape: {train_labels.size()}\")\n",
    "# img = train_features[0].squeeze()\n",
    "# label = train_labels[0]\n",
    "# plt.imshow(img, cmap=\"gray\")\n",
    "# plt.show()\n",
    "# print(f\"Label: {label}\")"
   ]
  },
  {
   "cell_type": "markdown",
   "metadata": {},
   "source": [
    "# Setup Model Architecture\n",
    "\n",
    "1. Create your model architecture in your folder\n",
    "2. Pick your loss function and optimizer"
   ]
  },
  {
   "cell_type": "code",
   "execution_count": 25,
   "metadata": {},
   "outputs": [
    {
     "name": "stdout",
     "output_type": "stream",
     "text": [
      "cuda\n"
     ]
    }
   ],
   "source": [
    "from NNDL.RNN.architecture import RNN,MyNetwork\n",
    "from NNDL.Utils.solver import train,test\n",
    "#device = \"cpu\"\n",
    "print(device)\n",
    "model = MyNetwork(input_dim,n_filters,filter_size, 0.0, output_dim).to(device)\n",
    "loss_fn = nn.CrossEntropyLoss()\n",
    "optimizer = torch.optim.Adam(model.parameters(), lr=1e-3)\n"
   ]
  },
  {
   "cell_type": "markdown",
   "metadata": {},
   "source": [
    "# Train the model\n",
    "This should work to train your model. We may have to make some edits for different optimizations, but we can figure it out.\n"
   ]
  },
  {
   "cell_type": "code",
   "execution_count": 26,
   "metadata": {},
   "outputs": [],
   "source": [
    "# from ignite.handlers import FastaiLRFinder\n",
    "\n",
    "# lr_finder = FastaiLRFinder()\n",
    "# to_save = {\"model\": model, \"optimizer\": optimizer}\n",
    "# with lr_finder.attach(train, to_save=to_save) as trainer_with_lr_finder:\n",
    "#     trainer_with_lr_finder.run(train_dataloader)\n",
    "\n",
    "# # Get lr_finder results\n",
    "# lr_finder.get_results()\n",
    " \n",
    "# # Plot lr_finder results (requires matplotlib)\n",
    "# lr_finder.plot()\n",
    "\n",
    "# # get lr_finder suggestion for lr\n",
    "# lr_finder.lr_suggestion()"
   ]
  },
  {
   "cell_type": "code",
   "execution_count": 28,
   "metadata": {},
   "outputs": [
    {
     "name": "stdout",
     "output_type": "stream",
     "text": [
      "Epoch 1\n",
      "-------------------------------\n"
     ]
    },
    {
     "ename": "RuntimeError",
     "evalue": "a Tensor with 1100 elements cannot be converted to Scalar",
     "output_type": "error",
     "traceback": [
      "\u001b[1;31m---------------------------------------------------------------------------\u001b[0m",
      "\u001b[1;31mRuntimeError\u001b[0m                              Traceback (most recent call last)",
      "Cell \u001b[1;32mIn[28], line 3\u001b[0m\n\u001b[0;32m      1\u001b[0m \u001b[38;5;28;01mfor\u001b[39;00m t \u001b[38;5;129;01min\u001b[39;00m \u001b[38;5;28mrange\u001b[39m(epochs):\n\u001b[0;32m      2\u001b[0m     \u001b[38;5;28mprint\u001b[39m(\u001b[38;5;124mf\u001b[39m\u001b[38;5;124m\"\u001b[39m\u001b[38;5;124mEpoch \u001b[39m\u001b[38;5;132;01m{\u001b[39;00mt\u001b[38;5;241m+\u001b[39m\u001b[38;5;241m1\u001b[39m\u001b[38;5;132;01m}\u001b[39;00m\u001b[38;5;130;01m\\n\u001b[39;00m\u001b[38;5;124m-------------------------------\u001b[39m\u001b[38;5;124m\"\u001b[39m)\n\u001b[1;32m----> 3\u001b[0m     \u001b[43mtrain\u001b[49m\u001b[43m(\u001b[49m\u001b[43mtrain_dataloader\u001b[49m\u001b[43m,\u001b[49m\u001b[43m \u001b[49m\u001b[43mmodel\u001b[49m\u001b[43m,\u001b[49m\u001b[43m \u001b[49m\u001b[43mloss_fn\u001b[49m\u001b[43m,\u001b[49m\u001b[43m \u001b[49m\u001b[43moptimizer\u001b[49m\u001b[43m)\u001b[49m\n\u001b[0;32m      4\u001b[0m     test(test_dataloader, model, loss_fn)\n\u001b[0;32m      5\u001b[0m \u001b[38;5;28mprint\u001b[39m(\u001b[38;5;124m\"\u001b[39m\u001b[38;5;124mDone!\u001b[39m\u001b[38;5;124m\"\u001b[39m)\n",
      "File \u001b[1;32mc:\\Users\\Blake\\Documents\\GitHub\\amazon-product-classification\\NNDL\\Utils\\solver.py:22\u001b[0m, in \u001b[0;36mtrain\u001b[1;34m(dataloader, model, loss_fn, optimizer)\u001b[0m\n\u001b[0;32m     20\u001b[0m \u001b[38;5;66;03m# Compute prediction error\u001b[39;00m\n\u001b[0;32m     21\u001b[0m pred \u001b[38;5;241m=\u001b[39m model(X)\n\u001b[1;32m---> 22\u001b[0m \u001b[38;5;28mprint\u001b[39m(\u001b[43mpred\u001b[49m\u001b[38;5;241;43m.\u001b[39;49m\u001b[43mitem\u001b[49m\u001b[43m(\u001b[49m\u001b[43m)\u001b[49m)\n\u001b[0;32m     23\u001b[0m loss \u001b[38;5;241m=\u001b[39m loss_fn(pred, y)\n\u001b[0;32m     25\u001b[0m \u001b[38;5;66;03m# Backpropagation\u001b[39;00m\n",
      "\u001b[1;31mRuntimeError\u001b[0m: a Tensor with 1100 elements cannot be converted to Scalar"
     ]
    }
   ],
   "source": [
    "\n",
    "for t in range(epochs):\n",
    "    print(f\"Epoch {t+1}\\n-------------------------------\")\n",
    "    train(train_dataloader, model, loss_fn, optimizer)\n",
    "    test(test_dataloader, model, loss_fn)\n",
    "print(\"Done!\")"
   ]
  },
  {
   "cell_type": "code",
   "execution_count": null,
   "metadata": {},
   "outputs": [],
   "source": []
  }
 ],
 "metadata": {
  "kernelspec": {
   "display_name": "Python 3",
   "language": "python",
   "name": "python3"
  },
  "language_info": {
   "codemirror_mode": {
    "name": "ipython",
    "version": 3
   },
   "file_extension": ".py",
   "mimetype": "text/x-python",
   "name": "python",
   "nbconvert_exporter": "python",
   "pygments_lexer": "ipython3",
   "version": "3.11.0"
  }
 },
 "nbformat": 4,
 "nbformat_minor": 2
}
